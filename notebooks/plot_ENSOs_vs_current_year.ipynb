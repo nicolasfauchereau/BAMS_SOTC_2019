{
 "cells": [
  {
   "cell_type": "code",
   "execution_count": 1,
   "metadata": {},
   "outputs": [],
   "source": [
    "%matplotlib inline\n",
    "from matplotlib import pyplot as plt"
   ]
  },
  {
   "cell_type": "code",
   "execution_count": 2,
   "metadata": {},
   "outputs": [],
   "source": [
    "import pathlib"
   ]
  },
  {
   "cell_type": "code",
   "execution_count": 3,
   "metadata": {},
   "outputs": [],
   "source": [
    "from collections import OrderedDict as OD\n",
    "from datetime import datetime"
   ]
  },
  {
   "cell_type": "code",
   "execution_count": 4,
   "metadata": {},
   "outputs": [],
   "source": [
    "from calendar import month_abbr"
   ]
  },
  {
   "cell_type": "code",
   "execution_count": 5,
   "metadata": {},
   "outputs": [],
   "source": [
    "import numpy as np \n",
    "import pandas as pd \n",
    "import xarray as xr"
   ]
  },
  {
   "cell_type": "markdown",
   "metadata": {},
   "source": [
    "### read the ONI from the CPC "
   ]
  },
  {
   "cell_type": "code",
   "execution_count": 6,
   "metadata": {},
   "outputs": [],
   "source": [
    "url = \"https://www.cpc.ncep.noaa.gov/data/indices/oni.ascii.txt\""
   ]
  },
  {
   "cell_type": "code",
   "execution_count": 7,
   "metadata": {},
   "outputs": [],
   "source": [
    "oni = pd.read_table(url,sep=r'\\s+', engine='python')"
   ]
  },
  {
   "cell_type": "markdown",
   "metadata": {},
   "source": [
    "### select the period post 1998"
   ]
  },
  {
   "cell_type": "code",
   "execution_count": 8,
   "metadata": {},
   "outputs": [],
   "source": [
    "oni = oni.loc[oni.YR > 1998,:]"
   ]
  },
  {
   "cell_type": "code",
   "execution_count": 9,
   "metadata": {},
   "outputs": [
    {
     "data": {
      "text/html": [
       "<div>\n",
       "<style scoped>\n",
       "    .dataframe tbody tr th:only-of-type {\n",
       "        vertical-align: middle;\n",
       "    }\n",
       "\n",
       "    .dataframe tbody tr th {\n",
       "        vertical-align: top;\n",
       "    }\n",
       "\n",
       "    .dataframe thead th {\n",
       "        text-align: right;\n",
       "    }\n",
       "</style>\n",
       "<table border=\"1\" class=\"dataframe\">\n",
       "  <thead>\n",
       "    <tr style=\"text-align: right;\">\n",
       "      <th></th>\n",
       "      <th>SEAS</th>\n",
       "      <th>YR</th>\n",
       "      <th>TOTAL</th>\n",
       "      <th>ANOM</th>\n",
       "    </tr>\n",
       "  </thead>\n",
       "  <tbody>\n",
       "    <tr>\n",
       "      <th>588</th>\n",
       "      <td>DJF</td>\n",
       "      <td>1999</td>\n",
       "      <td>25.08</td>\n",
       "      <td>-1.55</td>\n",
       "    </tr>\n",
       "    <tr>\n",
       "      <th>589</th>\n",
       "      <td>JFM</td>\n",
       "      <td>1999</td>\n",
       "      <td>25.55</td>\n",
       "      <td>-1.30</td>\n",
       "    </tr>\n",
       "    <tr>\n",
       "      <th>590</th>\n",
       "      <td>FMA</td>\n",
       "      <td>1999</td>\n",
       "      <td>26.17</td>\n",
       "      <td>-1.07</td>\n",
       "    </tr>\n",
       "    <tr>\n",
       "      <th>591</th>\n",
       "      <td>MAM</td>\n",
       "      <td>1999</td>\n",
       "      <td>26.62</td>\n",
       "      <td>-0.98</td>\n",
       "    </tr>\n",
       "    <tr>\n",
       "      <th>592</th>\n",
       "      <td>AMJ</td>\n",
       "      <td>1999</td>\n",
       "      <td>26.68</td>\n",
       "      <td>-1.02</td>\n",
       "    </tr>\n",
       "  </tbody>\n",
       "</table>\n",
       "</div>"
      ],
      "text/plain": [
       "    SEAS    YR  TOTAL  ANOM\n",
       "588  DJF  1999  25.08 -1.55\n",
       "589  JFM  1999  25.55 -1.30\n",
       "590  FMA  1999  26.17 -1.07\n",
       "591  MAM  1999  26.62 -0.98\n",
       "592  AMJ  1999  26.68 -1.02"
      ]
     },
     "execution_count": 9,
     "metadata": {},
     "output_type": "execute_result"
    }
   ],
   "source": [
    "oni.head()"
   ]
  },
  {
   "cell_type": "code",
   "execution_count": 10,
   "metadata": {},
   "outputs": [
    {
     "data": {
      "text/html": [
       "<div>\n",
       "<style scoped>\n",
       "    .dataframe tbody tr th:only-of-type {\n",
       "        vertical-align: middle;\n",
       "    }\n",
       "\n",
       "    .dataframe tbody tr th {\n",
       "        vertical-align: top;\n",
       "    }\n",
       "\n",
       "    .dataframe thead th {\n",
       "        text-align: right;\n",
       "    }\n",
       "</style>\n",
       "<table border=\"1\" class=\"dataframe\">\n",
       "  <thead>\n",
       "    <tr style=\"text-align: right;\">\n",
       "      <th></th>\n",
       "      <th>SEAS</th>\n",
       "      <th>YR</th>\n",
       "      <th>TOTAL</th>\n",
       "      <th>ANOM</th>\n",
       "    </tr>\n",
       "  </thead>\n",
       "  <tbody>\n",
       "    <tr>\n",
       "      <th>834</th>\n",
       "      <td>JJA</td>\n",
       "      <td>2019</td>\n",
       "      <td>27.57</td>\n",
       "      <td>0.30</td>\n",
       "    </tr>\n",
       "    <tr>\n",
       "      <th>835</th>\n",
       "      <td>JAS</td>\n",
       "      <td>2019</td>\n",
       "      <td>27.10</td>\n",
       "      <td>0.11</td>\n",
       "    </tr>\n",
       "    <tr>\n",
       "      <th>836</th>\n",
       "      <td>ASO</td>\n",
       "      <td>2019</td>\n",
       "      <td>26.95</td>\n",
       "      <td>0.13</td>\n",
       "    </tr>\n",
       "    <tr>\n",
       "      <th>837</th>\n",
       "      <td>SON</td>\n",
       "      <td>2019</td>\n",
       "      <td>27.06</td>\n",
       "      <td>0.29</td>\n",
       "    </tr>\n",
       "    <tr>\n",
       "      <th>838</th>\n",
       "      <td>OND</td>\n",
       "      <td>2019</td>\n",
       "      <td>27.18</td>\n",
       "      <td>0.46</td>\n",
       "    </tr>\n",
       "  </tbody>\n",
       "</table>\n",
       "</div>"
      ],
      "text/plain": [
       "    SEAS    YR  TOTAL  ANOM\n",
       "834  JJA  2019  27.57  0.30\n",
       "835  JAS  2019  27.10  0.11\n",
       "836  ASO  2019  26.95  0.13\n",
       "837  SON  2019  27.06  0.29\n",
       "838  OND  2019  27.18  0.46"
      ]
     },
     "execution_count": 10,
     "metadata": {},
     "output_type": "execute_result"
    }
   ],
   "source": [
    "oni.tail()"
   ]
  },
  {
   "cell_type": "markdown",
   "metadata": {},
   "source": [
    "### set the year for the BAMS report "
   ]
  },
  {
   "cell_type": "code",
   "execution_count": 11,
   "metadata": {},
   "outputs": [],
   "source": [
    "year = 2019"
   ]
  },
  {
   "cell_type": "markdown",
   "metadata": {},
   "source": [
    "### set the season (string corresponding to the season in the ONI index)"
   ]
  },
  {
   "cell_type": "code",
   "execution_count": 12,
   "metadata": {},
   "outputs": [],
   "source": [
    "dict_season = {}\n",
    "\n",
    "dict_season['JFM'] = [1, 3]\n",
    "dict_season['FMA'] = [2, 4]\n",
    "dict_season['MAM'] = [3, 5]\n",
    "dict_season['AMJ'] = [4, 6]\n",
    "dict_season['MJJ'] = [5, 7]\n",
    "dict_season['JJA'] = [6, 8]\n",
    "dict_season['JAS'] = [7, 9]\n",
    "dict_season['ASO'] = [8, 10]\n",
    "dict_season['SON'] = [9, 11]\n",
    "dict_season['OND'] = [10, 12]"
   ]
  },
  {
   "cell_type": "code",
   "execution_count": 13,
   "metadata": {},
   "outputs": [],
   "source": [
    "season = 'OND'\n",
    "# season = 'JFM'\n",
    "# season = 'JJA'"
   ]
  },
  {
   "cell_type": "markdown",
   "metadata": {},
   "source": [
    "### months spanned by the season"
   ]
  },
  {
   "cell_type": "code",
   "execution_count": 14,
   "metadata": {},
   "outputs": [],
   "source": [
    "months = dict_season[season]"
   ]
  },
  {
   "cell_type": "code",
   "execution_count": 15,
   "metadata": {},
   "outputs": [],
   "source": [
    "title = f\"{month_abbr[months[0]]} - {month_abbr[months[1]]}\""
   ]
  },
  {
   "cell_type": "code",
   "execution_count": 16,
   "metadata": {},
   "outputs": [
    {
     "data": {
      "text/plain": [
       "'Jan - Mar'"
      ]
     },
     "execution_count": 16,
     "metadata": {},
     "output_type": "execute_result"
    }
   ],
   "source": [
    "title"
   ]
  },
  {
   "cell_type": "markdown",
   "metadata": {},
   "source": [
    "### selects the Oceanic Nino Index seasonal values for the season "
   ]
  },
  {
   "cell_type": "code",
   "execution_count": 17,
   "metadata": {},
   "outputs": [],
   "source": [
    "oni_seas = oni.loc[oni.SEAS == season]"
   ]
  },
  {
   "cell_type": "code",
   "execution_count": 18,
   "metadata": {},
   "outputs": [
    {
     "data": {
      "text/html": [
       "<div>\n",
       "<style scoped>\n",
       "    .dataframe tbody tr th:only-of-type {\n",
       "        vertical-align: middle;\n",
       "    }\n",
       "\n",
       "    .dataframe tbody tr th {\n",
       "        vertical-align: top;\n",
       "    }\n",
       "\n",
       "    .dataframe thead th {\n",
       "        text-align: right;\n",
       "    }\n",
       "</style>\n",
       "<table border=\"1\" class=\"dataframe\">\n",
       "  <thead>\n",
       "    <tr style=\"text-align: right;\">\n",
       "      <th></th>\n",
       "      <th>SEAS</th>\n",
       "      <th>YR</th>\n",
       "      <th>TOTAL</th>\n",
       "      <th>ANOM</th>\n",
       "    </tr>\n",
       "  </thead>\n",
       "  <tbody>\n",
       "    <tr>\n",
       "      <th>589</th>\n",
       "      <td>JFM</td>\n",
       "      <td>1999</td>\n",
       "      <td>25.55</td>\n",
       "      <td>-1.30</td>\n",
       "    </tr>\n",
       "    <tr>\n",
       "      <th>601</th>\n",
       "      <td>JFM</td>\n",
       "      <td>2000</td>\n",
       "      <td>25.44</td>\n",
       "      <td>-1.41</td>\n",
       "    </tr>\n",
       "    <tr>\n",
       "      <th>613</th>\n",
       "      <td>JFM</td>\n",
       "      <td>2001</td>\n",
       "      <td>26.26</td>\n",
       "      <td>-0.52</td>\n",
       "    </tr>\n",
       "    <tr>\n",
       "      <th>625</th>\n",
       "      <td>JFM</td>\n",
       "      <td>2002</td>\n",
       "      <td>26.81</td>\n",
       "      <td>0.03</td>\n",
       "    </tr>\n",
       "    <tr>\n",
       "      <th>637</th>\n",
       "      <td>JFM</td>\n",
       "      <td>2003</td>\n",
       "      <td>27.41</td>\n",
       "      <td>0.63</td>\n",
       "    </tr>\n",
       "    <tr>\n",
       "      <th>649</th>\n",
       "      <td>JFM</td>\n",
       "      <td>2004</td>\n",
       "      <td>27.08</td>\n",
       "      <td>0.31</td>\n",
       "    </tr>\n",
       "    <tr>\n",
       "      <th>661</th>\n",
       "      <td>JFM</td>\n",
       "      <td>2005</td>\n",
       "      <td>27.36</td>\n",
       "      <td>0.58</td>\n",
       "    </tr>\n",
       "    <tr>\n",
       "      <th>673</th>\n",
       "      <td>JFM</td>\n",
       "      <td>2006</td>\n",
       "      <td>26.10</td>\n",
       "      <td>-0.67</td>\n",
       "    </tr>\n",
       "    <tr>\n",
       "      <th>685</th>\n",
       "      <td>JFM</td>\n",
       "      <td>2007</td>\n",
       "      <td>27.09</td>\n",
       "      <td>0.32</td>\n",
       "    </tr>\n",
       "    <tr>\n",
       "      <th>697</th>\n",
       "      <td>JFM</td>\n",
       "      <td>2008</td>\n",
       "      <td>25.35</td>\n",
       "      <td>-1.42</td>\n",
       "    </tr>\n",
       "    <tr>\n",
       "      <th>709</th>\n",
       "      <td>JFM</td>\n",
       "      <td>2009</td>\n",
       "      <td>26.08</td>\n",
       "      <td>-0.69</td>\n",
       "    </tr>\n",
       "    <tr>\n",
       "      <th>721</th>\n",
       "      <td>JFM</td>\n",
       "      <td>2010</td>\n",
       "      <td>28.09</td>\n",
       "      <td>1.31</td>\n",
       "    </tr>\n",
       "    <tr>\n",
       "      <th>733</th>\n",
       "      <td>JFM</td>\n",
       "      <td>2011</td>\n",
       "      <td>25.68</td>\n",
       "      <td>-1.09</td>\n",
       "    </tr>\n",
       "    <tr>\n",
       "      <th>745</th>\n",
       "      <td>JFM</td>\n",
       "      <td>2012</td>\n",
       "      <td>26.15</td>\n",
       "      <td>-0.62</td>\n",
       "    </tr>\n",
       "    <tr>\n",
       "      <th>757</th>\n",
       "      <td>JFM</td>\n",
       "      <td>2013</td>\n",
       "      <td>26.44</td>\n",
       "      <td>-0.33</td>\n",
       "    </tr>\n",
       "    <tr>\n",
       "      <th>769</th>\n",
       "      <td>JFM</td>\n",
       "      <td>2014</td>\n",
       "      <td>26.41</td>\n",
       "      <td>-0.36</td>\n",
       "    </tr>\n",
       "    <tr>\n",
       "      <th>781</th>\n",
       "      <td>JFM</td>\n",
       "      <td>2015</td>\n",
       "      <td>27.34</td>\n",
       "      <td>0.56</td>\n",
       "    </tr>\n",
       "    <tr>\n",
       "      <th>793</th>\n",
       "      <td>JFM</td>\n",
       "      <td>2016</td>\n",
       "      <td>29.01</td>\n",
       "      <td>2.23</td>\n",
       "    </tr>\n",
       "    <tr>\n",
       "      <th>805</th>\n",
       "      <td>JFM</td>\n",
       "      <td>2017</td>\n",
       "      <td>26.71</td>\n",
       "      <td>-0.06</td>\n",
       "    </tr>\n",
       "    <tr>\n",
       "      <th>817</th>\n",
       "      <td>JFM</td>\n",
       "      <td>2018</td>\n",
       "      <td>26.02</td>\n",
       "      <td>-0.76</td>\n",
       "    </tr>\n",
       "    <tr>\n",
       "      <th>829</th>\n",
       "      <td>JFM</td>\n",
       "      <td>2019</td>\n",
       "      <td>27.59</td>\n",
       "      <td>0.82</td>\n",
       "    </tr>\n",
       "  </tbody>\n",
       "</table>\n",
       "</div>"
      ],
      "text/plain": [
       "    SEAS    YR  TOTAL  ANOM\n",
       "589  JFM  1999  25.55 -1.30\n",
       "601  JFM  2000  25.44 -1.41\n",
       "613  JFM  2001  26.26 -0.52\n",
       "625  JFM  2002  26.81  0.03\n",
       "637  JFM  2003  27.41  0.63\n",
       "649  JFM  2004  27.08  0.31\n",
       "661  JFM  2005  27.36  0.58\n",
       "673  JFM  2006  26.10 -0.67\n",
       "685  JFM  2007  27.09  0.32\n",
       "697  JFM  2008  25.35 -1.42\n",
       "709  JFM  2009  26.08 -0.69\n",
       "721  JFM  2010  28.09  1.31\n",
       "733  JFM  2011  25.68 -1.09\n",
       "745  JFM  2012  26.15 -0.62\n",
       "757  JFM  2013  26.44 -0.33\n",
       "769  JFM  2014  26.41 -0.36\n",
       "781  JFM  2015  27.34  0.56\n",
       "793  JFM  2016  29.01  2.23\n",
       "805  JFM  2017  26.71 -0.06\n",
       "817  JFM  2018  26.02 -0.76\n",
       "829  JFM  2019  27.59  0.82"
      ]
     },
     "execution_count": 18,
     "metadata": {},
     "output_type": "execute_result"
    }
   ],
   "source": [
    "oni_seas"
   ]
  },
  {
   "cell_type": "markdown",
   "metadata": {},
   "source": [
    "### threshold used to define the ENSO events (NINO, NINA, NEUTRAL)"
   ]
  },
  {
   "cell_type": "code",
   "execution_count": 19,
   "metadata": {},
   "outputs": [],
   "source": [
    "ONI_threshold = 0.5"
   ]
  },
  {
   "cell_type": "code",
   "execution_count": 20,
   "metadata": {},
   "outputs": [],
   "source": [
    "ninos = oni_seas.query('ANOM > {}'.format(ONI_threshold))"
   ]
  },
  {
   "cell_type": "code",
   "execution_count": 21,
   "metadata": {},
   "outputs": [],
   "source": [
    "ninas = oni_seas.query('ANOM < {}'.format(-ONI_threshold))"
   ]
  },
  {
   "cell_type": "code",
   "execution_count": 22,
   "metadata": {},
   "outputs": [],
   "source": [
    "neutral = oni_seas.query(f'{-ONI_threshold} <= ANOM <= {ONI_threshold}')"
   ]
  },
  {
   "cell_type": "code",
   "execution_count": 23,
   "metadata": {},
   "outputs": [
    {
     "data": {
      "text/html": [
       "<div>\n",
       "<style scoped>\n",
       "    .dataframe tbody tr th:only-of-type {\n",
       "        vertical-align: middle;\n",
       "    }\n",
       "\n",
       "    .dataframe tbody tr th {\n",
       "        vertical-align: top;\n",
       "    }\n",
       "\n",
       "    .dataframe thead th {\n",
       "        text-align: right;\n",
       "    }\n",
       "</style>\n",
       "<table border=\"1\" class=\"dataframe\">\n",
       "  <thead>\n",
       "    <tr style=\"text-align: right;\">\n",
       "      <th></th>\n",
       "      <th>SEAS</th>\n",
       "      <th>YR</th>\n",
       "      <th>TOTAL</th>\n",
       "      <th>ANOM</th>\n",
       "    </tr>\n",
       "  </thead>\n",
       "  <tbody>\n",
       "    <tr>\n",
       "      <th>637</th>\n",
       "      <td>JFM</td>\n",
       "      <td>2003</td>\n",
       "      <td>27.41</td>\n",
       "      <td>0.63</td>\n",
       "    </tr>\n",
       "    <tr>\n",
       "      <th>661</th>\n",
       "      <td>JFM</td>\n",
       "      <td>2005</td>\n",
       "      <td>27.36</td>\n",
       "      <td>0.58</td>\n",
       "    </tr>\n",
       "    <tr>\n",
       "      <th>721</th>\n",
       "      <td>JFM</td>\n",
       "      <td>2010</td>\n",
       "      <td>28.09</td>\n",
       "      <td>1.31</td>\n",
       "    </tr>\n",
       "    <tr>\n",
       "      <th>781</th>\n",
       "      <td>JFM</td>\n",
       "      <td>2015</td>\n",
       "      <td>27.34</td>\n",
       "      <td>0.56</td>\n",
       "    </tr>\n",
       "    <tr>\n",
       "      <th>793</th>\n",
       "      <td>JFM</td>\n",
       "      <td>2016</td>\n",
       "      <td>29.01</td>\n",
       "      <td>2.23</td>\n",
       "    </tr>\n",
       "    <tr>\n",
       "      <th>829</th>\n",
       "      <td>JFM</td>\n",
       "      <td>2019</td>\n",
       "      <td>27.59</td>\n",
       "      <td>0.82</td>\n",
       "    </tr>\n",
       "  </tbody>\n",
       "</table>\n",
       "</div>"
      ],
      "text/plain": [
       "    SEAS    YR  TOTAL  ANOM\n",
       "637  JFM  2003  27.41  0.63\n",
       "661  JFM  2005  27.36  0.58\n",
       "721  JFM  2010  28.09  1.31\n",
       "781  JFM  2015  27.34  0.56\n",
       "793  JFM  2016  29.01  2.23\n",
       "829  JFM  2019  27.59  0.82"
      ]
     },
     "execution_count": 23,
     "metadata": {},
     "output_type": "execute_result"
    }
   ],
   "source": [
    "ninos"
   ]
  },
  {
   "cell_type": "code",
   "execution_count": 24,
   "metadata": {},
   "outputs": [
    {
     "data": {
      "text/plain": [
       "6"
      ]
     },
     "execution_count": 24,
     "metadata": {},
     "output_type": "execute_result"
    }
   ],
   "source": [
    "len(ninos)"
   ]
  },
  {
   "cell_type": "code",
   "execution_count": 25,
   "metadata": {},
   "outputs": [
    {
     "data": {
      "text/html": [
       "<div>\n",
       "<style scoped>\n",
       "    .dataframe tbody tr th:only-of-type {\n",
       "        vertical-align: middle;\n",
       "    }\n",
       "\n",
       "    .dataframe tbody tr th {\n",
       "        vertical-align: top;\n",
       "    }\n",
       "\n",
       "    .dataframe thead th {\n",
       "        text-align: right;\n",
       "    }\n",
       "</style>\n",
       "<table border=\"1\" class=\"dataframe\">\n",
       "  <thead>\n",
       "    <tr style=\"text-align: right;\">\n",
       "      <th></th>\n",
       "      <th>SEAS</th>\n",
       "      <th>YR</th>\n",
       "      <th>TOTAL</th>\n",
       "      <th>ANOM</th>\n",
       "    </tr>\n",
       "  </thead>\n",
       "  <tbody>\n",
       "    <tr>\n",
       "      <th>589</th>\n",
       "      <td>JFM</td>\n",
       "      <td>1999</td>\n",
       "      <td>25.55</td>\n",
       "      <td>-1.30</td>\n",
       "    </tr>\n",
       "    <tr>\n",
       "      <th>601</th>\n",
       "      <td>JFM</td>\n",
       "      <td>2000</td>\n",
       "      <td>25.44</td>\n",
       "      <td>-1.41</td>\n",
       "    </tr>\n",
       "    <tr>\n",
       "      <th>613</th>\n",
       "      <td>JFM</td>\n",
       "      <td>2001</td>\n",
       "      <td>26.26</td>\n",
       "      <td>-0.52</td>\n",
       "    </tr>\n",
       "    <tr>\n",
       "      <th>673</th>\n",
       "      <td>JFM</td>\n",
       "      <td>2006</td>\n",
       "      <td>26.10</td>\n",
       "      <td>-0.67</td>\n",
       "    </tr>\n",
       "    <tr>\n",
       "      <th>697</th>\n",
       "      <td>JFM</td>\n",
       "      <td>2008</td>\n",
       "      <td>25.35</td>\n",
       "      <td>-1.42</td>\n",
       "    </tr>\n",
       "    <tr>\n",
       "      <th>709</th>\n",
       "      <td>JFM</td>\n",
       "      <td>2009</td>\n",
       "      <td>26.08</td>\n",
       "      <td>-0.69</td>\n",
       "    </tr>\n",
       "    <tr>\n",
       "      <th>733</th>\n",
       "      <td>JFM</td>\n",
       "      <td>2011</td>\n",
       "      <td>25.68</td>\n",
       "      <td>-1.09</td>\n",
       "    </tr>\n",
       "    <tr>\n",
       "      <th>745</th>\n",
       "      <td>JFM</td>\n",
       "      <td>2012</td>\n",
       "      <td>26.15</td>\n",
       "      <td>-0.62</td>\n",
       "    </tr>\n",
       "    <tr>\n",
       "      <th>817</th>\n",
       "      <td>JFM</td>\n",
       "      <td>2018</td>\n",
       "      <td>26.02</td>\n",
       "      <td>-0.76</td>\n",
       "    </tr>\n",
       "  </tbody>\n",
       "</table>\n",
       "</div>"
      ],
      "text/plain": [
       "    SEAS    YR  TOTAL  ANOM\n",
       "589  JFM  1999  25.55 -1.30\n",
       "601  JFM  2000  25.44 -1.41\n",
       "613  JFM  2001  26.26 -0.52\n",
       "673  JFM  2006  26.10 -0.67\n",
       "697  JFM  2008  25.35 -1.42\n",
       "709  JFM  2009  26.08 -0.69\n",
       "733  JFM  2011  25.68 -1.09\n",
       "745  JFM  2012  26.15 -0.62\n",
       "817  JFM  2018  26.02 -0.76"
      ]
     },
     "execution_count": 25,
     "metadata": {},
     "output_type": "execute_result"
    }
   ],
   "source": [
    "ninas"
   ]
  },
  {
   "cell_type": "code",
   "execution_count": 26,
   "metadata": {},
   "outputs": [
    {
     "data": {
      "text/plain": [
       "9"
      ]
     },
     "execution_count": 26,
     "metadata": {},
     "output_type": "execute_result"
    }
   ],
   "source": [
    "len(ninas)"
   ]
  },
  {
   "cell_type": "code",
   "execution_count": 27,
   "metadata": {},
   "outputs": [
    {
     "data": {
      "text/html": [
       "<div>\n",
       "<style scoped>\n",
       "    .dataframe tbody tr th:only-of-type {\n",
       "        vertical-align: middle;\n",
       "    }\n",
       "\n",
       "    .dataframe tbody tr th {\n",
       "        vertical-align: top;\n",
       "    }\n",
       "\n",
       "    .dataframe thead th {\n",
       "        text-align: right;\n",
       "    }\n",
       "</style>\n",
       "<table border=\"1\" class=\"dataframe\">\n",
       "  <thead>\n",
       "    <tr style=\"text-align: right;\">\n",
       "      <th></th>\n",
       "      <th>SEAS</th>\n",
       "      <th>YR</th>\n",
       "      <th>TOTAL</th>\n",
       "      <th>ANOM</th>\n",
       "    </tr>\n",
       "  </thead>\n",
       "  <tbody>\n",
       "    <tr>\n",
       "      <th>625</th>\n",
       "      <td>JFM</td>\n",
       "      <td>2002</td>\n",
       "      <td>26.81</td>\n",
       "      <td>0.03</td>\n",
       "    </tr>\n",
       "    <tr>\n",
       "      <th>649</th>\n",
       "      <td>JFM</td>\n",
       "      <td>2004</td>\n",
       "      <td>27.08</td>\n",
       "      <td>0.31</td>\n",
       "    </tr>\n",
       "    <tr>\n",
       "      <th>685</th>\n",
       "      <td>JFM</td>\n",
       "      <td>2007</td>\n",
       "      <td>27.09</td>\n",
       "      <td>0.32</td>\n",
       "    </tr>\n",
       "    <tr>\n",
       "      <th>757</th>\n",
       "      <td>JFM</td>\n",
       "      <td>2013</td>\n",
       "      <td>26.44</td>\n",
       "      <td>-0.33</td>\n",
       "    </tr>\n",
       "    <tr>\n",
       "      <th>769</th>\n",
       "      <td>JFM</td>\n",
       "      <td>2014</td>\n",
       "      <td>26.41</td>\n",
       "      <td>-0.36</td>\n",
       "    </tr>\n",
       "    <tr>\n",
       "      <th>805</th>\n",
       "      <td>JFM</td>\n",
       "      <td>2017</td>\n",
       "      <td>26.71</td>\n",
       "      <td>-0.06</td>\n",
       "    </tr>\n",
       "  </tbody>\n",
       "</table>\n",
       "</div>"
      ],
      "text/plain": [
       "    SEAS    YR  TOTAL  ANOM\n",
       "625  JFM  2002  26.81  0.03\n",
       "649  JFM  2004  27.08  0.31\n",
       "685  JFM  2007  27.09  0.32\n",
       "757  JFM  2013  26.44 -0.33\n",
       "769  JFM  2014  26.41 -0.36\n",
       "805  JFM  2017  26.71 -0.06"
      ]
     },
     "execution_count": 27,
     "metadata": {},
     "output_type": "execute_result"
    }
   ],
   "source": [
    "neutral"
   ]
  },
  {
   "cell_type": "code",
   "execution_count": 28,
   "metadata": {},
   "outputs": [
    {
     "data": {
      "text/plain": [
       "6"
      ]
     },
     "execution_count": 28,
     "metadata": {},
     "output_type": "execute_result"
    }
   ],
   "source": [
    "len(neutral)"
   ]
  },
  {
   "cell_type": "markdown",
   "metadata": {},
   "source": [
    "## Now reads the CMORPH dataset "
   ]
  },
  {
   "cell_type": "markdown",
   "metadata": {},
   "source": [
    "**NOTE**: need to run \n",
    "    \n",
    "    \n",
    "```\n",
    "cdo settunits,days cmorph_monthly.nc cmorph_monthly_jan1998-jan2020.nc\n",
    "\n",
    "```\n",
    "\n",
    "in the `CDO` environment  \n",
    "\n",
    "in order to set the calendar so that it can be read by xarray ... \n",
    "\n",
    "or alternatively (solution below) is to read without decoding the times, then create a time index using pandas.date_range"
   ]
  },
  {
   "cell_type": "code",
   "execution_count": 29,
   "metadata": {},
   "outputs": [],
   "source": [
    "dset = xr.open_dataset('../CMORPH/cmorph_monthly_from_KNMI.nc', decode_times=False)"
   ]
  },
  {
   "cell_type": "code",
   "execution_count": 30,
   "metadata": {},
   "outputs": [
    {
     "data": {
      "text/html": [
       "<pre>&lt;xarray.Dataset&gt;\n",
       "Dimensions:  (lat: 240, lon: 720, time: 265)\n",
       "Coordinates:\n",
       "  * lon      (lon) float32 0.25 0.75 1.25 1.75 ... 358.25 358.75 359.25 359.75\n",
       "  * lat      (lat) float32 -59.75 -59.25 -58.75 -58.25 ... 58.75 59.25 59.75\n",
       "  * time     (time) float64 0.0 1.0 2.0 3.0 4.0 ... 261.0 262.0 263.0 264.0\n",
       "Data variables:\n",
       "    prcp     (time, lat, lon) float32 ...\n",
       "Attributes:\n",
       "    CDI:                        Climate Data Interface version 1.6.9 (http://...\n",
       "    history:                    Sun Jan 12 11:45:23 2020: cdo settaxis,1998-0...\n",
       "    institution:                NCEP/CPC\n",
       "    Conventions:                CF-1.0\n",
       "    title:                      CMORPH Version 1.0, RAW daily precip from 00Z...\n",
       "    source_url:                 http://www.cpc.ncep.noaa.gov/products/janowia...\n",
       "    reference:                  Joyce, R. J., J. E. Janowiak, P. A. Arkin, an...\n",
       "    geospatial_lat_min:         -60.0\n",
       "    geospatial_lat_max:         60.0\n",
       "    geospatial_lat_units:       degrees_north\n",
       "    geospatial_lon_min:         0.0\n",
       "    geospatial_lon_max:         360.0\n",
       "    geospatial_lon_units:       degrees_east\n",
       "    geospatial_lat_resolution:  0.5\n",
       "    geospatial_lon_resolution:  0.5\n",
       "    time_coverage_start:        1998-01-01\n",
       "    time_coverage_end:          2020-01-10\n",
       "    climexp_url:                https://climexp.knmi.nl/select.cgi?cmorph_daily\n",
       "    CDO:                        Climate Data Operators version 1.6.9 (http://...</pre>"
      ],
      "text/plain": [
       "<xarray.Dataset>\n",
       "Dimensions:  (lat: 240, lon: 720, time: 265)\n",
       "Coordinates:\n",
       "  * lon      (lon) float32 0.25 0.75 1.25 1.75 ... 358.25 358.75 359.25 359.75\n",
       "  * lat      (lat) float32 -59.75 -59.25 -58.75 -58.25 ... 58.75 59.25 59.75\n",
       "  * time     (time) float64 0.0 1.0 2.0 3.0 4.0 ... 261.0 262.0 263.0 264.0\n",
       "Data variables:\n",
       "    prcp     (time, lat, lon) float32 ...\n",
       "Attributes:\n",
       "    CDI:                        Climate Data Interface version 1.6.9 (http://...\n",
       "    history:                    Sun Jan 12 11:45:23 2020: cdo settaxis,1998-0...\n",
       "    institution:                NCEP/CPC\n",
       "    Conventions:                CF-1.0\n",
       "    title:                      CMORPH Version 1.0, RAW daily precip from 00Z...\n",
       "    source_url:                 http://www.cpc.ncep.noaa.gov/products/janowia...\n",
       "    reference:                  Joyce, R. J., J. E. Janowiak, P. A. Arkin, an...\n",
       "    geospatial_lat_min:         -60.0\n",
       "    geospatial_lat_max:         60.0\n",
       "    geospatial_lat_units:       degrees_north\n",
       "    geospatial_lon_min:         0.0\n",
       "    geospatial_lon_max:         360.0\n",
       "    geospatial_lon_units:       degrees_east\n",
       "    geospatial_lat_resolution:  0.5\n",
       "    geospatial_lon_resolution:  0.5\n",
       "    time_coverage_start:        1998-01-01\n",
       "    time_coverage_end:          2020-01-10\n",
       "    climexp_url:                https://climexp.knmi.nl/select.cgi?cmorph_daily\n",
       "    CDO:                        Climate Data Operators version 1.6.9 (http://..."
      ]
     },
     "execution_count": 30,
     "metadata": {},
     "output_type": "execute_result"
    }
   ],
   "source": [
    "dset"
   ]
  },
  {
   "cell_type": "markdown",
   "metadata": {},
   "source": [
    "### we have to create a proper time index using pandas "
   ]
  },
  {
   "cell_type": "code",
   "execution_count": 31,
   "metadata": {},
   "outputs": [],
   "source": [
    "dset['time'] = pd.date_range(start='1998-1-1', periods=len(dset.time), freq='MS')"
   ]
  },
  {
   "cell_type": "code",
   "execution_count": 32,
   "metadata": {},
   "outputs": [
    {
     "data": {
      "text/html": [
       "<pre>&lt;xarray.Dataset&gt;\n",
       "Dimensions:  (lat: 240, lon: 720, time: 265)\n",
       "Coordinates:\n",
       "  * lon      (lon) float32 0.25 0.75 1.25 1.75 ... 358.25 358.75 359.25 359.75\n",
       "  * lat      (lat) float32 -59.75 -59.25 -58.75 -58.25 ... 58.75 59.25 59.75\n",
       "  * time     (time) datetime64[ns] 1998-01-01 1998-02-01 ... 2020-01-01\n",
       "Data variables:\n",
       "    prcp     (time, lat, lon) float32 ...\n",
       "Attributes:\n",
       "    CDI:                        Climate Data Interface version 1.6.9 (http://...\n",
       "    history:                    Sun Jan 12 11:45:23 2020: cdo settaxis,1998-0...\n",
       "    institution:                NCEP/CPC\n",
       "    Conventions:                CF-1.0\n",
       "    title:                      CMORPH Version 1.0, RAW daily precip from 00Z...\n",
       "    source_url:                 http://www.cpc.ncep.noaa.gov/products/janowia...\n",
       "    reference:                  Joyce, R. J., J. E. Janowiak, P. A. Arkin, an...\n",
       "    geospatial_lat_min:         -60.0\n",
       "    geospatial_lat_max:         60.0\n",
       "    geospatial_lat_units:       degrees_north\n",
       "    geospatial_lon_min:         0.0\n",
       "    geospatial_lon_max:         360.0\n",
       "    geospatial_lon_units:       degrees_east\n",
       "    geospatial_lat_resolution:  0.5\n",
       "    geospatial_lon_resolution:  0.5\n",
       "    time_coverage_start:        1998-01-01\n",
       "    time_coverage_end:          2020-01-10\n",
       "    climexp_url:                https://climexp.knmi.nl/select.cgi?cmorph_daily\n",
       "    CDO:                        Climate Data Operators version 1.6.9 (http://...</pre>"
      ],
      "text/plain": [
       "<xarray.Dataset>\n",
       "Dimensions:  (lat: 240, lon: 720, time: 265)\n",
       "Coordinates:\n",
       "  * lon      (lon) float32 0.25 0.75 1.25 1.75 ... 358.25 358.75 359.25 359.75\n",
       "  * lat      (lat) float32 -59.75 -59.25 -58.75 -58.25 ... 58.75 59.25 59.75\n",
       "  * time     (time) datetime64[ns] 1998-01-01 1998-02-01 ... 2020-01-01\n",
       "Data variables:\n",
       "    prcp     (time, lat, lon) float32 ...\n",
       "Attributes:\n",
       "    CDI:                        Climate Data Interface version 1.6.9 (http://...\n",
       "    history:                    Sun Jan 12 11:45:23 2020: cdo settaxis,1998-0...\n",
       "    institution:                NCEP/CPC\n",
       "    Conventions:                CF-1.0\n",
       "    title:                      CMORPH Version 1.0, RAW daily precip from 00Z...\n",
       "    source_url:                 http://www.cpc.ncep.noaa.gov/products/janowia...\n",
       "    reference:                  Joyce, R. J., J. E. Janowiak, P. A. Arkin, an...\n",
       "    geospatial_lat_min:         -60.0\n",
       "    geospatial_lat_max:         60.0\n",
       "    geospatial_lat_units:       degrees_north\n",
       "    geospatial_lon_min:         0.0\n",
       "    geospatial_lon_max:         360.0\n",
       "    geospatial_lon_units:       degrees_east\n",
       "    geospatial_lat_resolution:  0.5\n",
       "    geospatial_lon_resolution:  0.5\n",
       "    time_coverage_start:        1998-01-01\n",
       "    time_coverage_end:          2020-01-10\n",
       "    climexp_url:                https://climexp.knmi.nl/select.cgi?cmorph_daily\n",
       "    CDO:                        Climate Data Operators version 1.6.9 (http://..."
      ]
     },
     "execution_count": 32,
     "metadata": {},
     "output_type": "execute_result"
    }
   ],
   "source": [
    "dset"
   ]
  },
  {
   "cell_type": "markdown",
   "metadata": {},
   "source": [
    "### restrict the domain to [110.,-30.,280.,20.] for tthe sector plots"
   ]
  },
  {
   "cell_type": "code",
   "execution_count": 33,
   "metadata": {},
   "outputs": [],
   "source": [
    "dset = dset.sel(lat=slice(-40., 30.), lon=slice(150, 360 - 90))"
   ]
  },
  {
   "cell_type": "markdown",
   "metadata": {},
   "source": [
    "### calculate the climatology "
   ]
  },
  {
   "cell_type": "code",
   "execution_count": 34,
   "metadata": {},
   "outputs": [],
   "source": [
    "clim = dset.sel(time=slice('1998','2018'))"
   ]
  },
  {
   "cell_type": "code",
   "execution_count": 35,
   "metadata": {},
   "outputs": [],
   "source": [
    "clim = clim.groupby(clim.time.dt.month).mean('time')"
   ]
  },
  {
   "cell_type": "code",
   "execution_count": 36,
   "metadata": {},
   "outputs": [],
   "source": [
    "lon_sectors = [150, 180, (360-150), (360-120), (360-90)]\n",
    "lon_labels = ['150E','180','150W','120W','90W']"
   ]
  },
  {
   "cell_type": "markdown",
   "metadata": {},
   "source": [
    "### calculates the seasonal averages from the monthly means "
   ]
  },
  {
   "cell_type": "code",
   "execution_count": 37,
   "metadata": {},
   "outputs": [],
   "source": [
    "dset_seas = dset.rolling(time=3, min_periods=3).mean()"
   ]
  },
  {
   "cell_type": "code",
   "execution_count": 38,
   "metadata": {},
   "outputs": [
    {
     "data": {
      "text/html": [
       "<pre>&lt;xarray.Dataset&gt;\n",
       "Dimensions:  (lat: 140, lon: 240, time: 265)\n",
       "Coordinates:\n",
       "  * lon      (lon) float32 150.25 150.75 151.25 151.75 ... 268.75 269.25 269.75\n",
       "  * lat      (lat) float32 -39.75 -39.25 -38.75 -38.25 ... 28.75 29.25 29.75\n",
       "  * time     (time) datetime64[ns] 1998-01-01 1998-02-01 ... 2020-01-01\n",
       "Data variables:\n",
       "    prcp     (time, lat, lon) float32 nan nan nan ... 1.5302474 1.5843872</pre>"
      ],
      "text/plain": [
       "<xarray.Dataset>\n",
       "Dimensions:  (lat: 140, lon: 240, time: 265)\n",
       "Coordinates:\n",
       "  * lon      (lon) float32 150.25 150.75 151.25 151.75 ... 268.75 269.25 269.75\n",
       "  * lat      (lat) float32 -39.75 -39.25 -38.75 -38.25 ... 28.75 29.25 29.75\n",
       "  * time     (time) datetime64[ns] 1998-01-01 1998-02-01 ... 2020-01-01\n",
       "Data variables:\n",
       "    prcp     (time, lat, lon) float32 nan nan nan ... 1.5302474 1.5843872"
      ]
     },
     "execution_count": 38,
     "metadata": {},
     "output_type": "execute_result"
    }
   ],
   "source": [
    "dset_seas"
   ]
  },
  {
   "cell_type": "code",
   "execution_count": 39,
   "metadata": {},
   "outputs": [],
   "source": [
    "dset_seas = dset_seas.sel(time=(dset_seas.time.dt.month == months[1]))"
   ]
  },
  {
   "cell_type": "code",
   "execution_count": 40,
   "metadata": {},
   "outputs": [],
   "source": [
    "from datetime import datetime"
   ]
  },
  {
   "cell_type": "code",
   "execution_count": 41,
   "metadata": {},
   "outputs": [],
   "source": [
    "time_index_ninos = [datetime(y, months[1], 1) for y in ninos.YR.values]\n",
    "time_index_ninas = [datetime(y, months[1], 1) for y in ninas.YR.values]\n",
    "time_index_neutral = [datetime(y, months[1], 1) for y in neutral.YR.values]"
   ]
  },
  {
   "cell_type": "code",
   "execution_count": 42,
   "metadata": {},
   "outputs": [],
   "source": [
    "ninos_cmorph = dset_seas.sel(time=time_index_ninos)"
   ]
  },
  {
   "cell_type": "code",
   "execution_count": 43,
   "metadata": {},
   "outputs": [],
   "source": [
    "ninas_cmorph = dset_seas.sel(time=time_index_ninas)"
   ]
  },
  {
   "cell_type": "code",
   "execution_count": 44,
   "metadata": {},
   "outputs": [],
   "source": [
    "neutral_cmorph = dset_seas.sel(time=time_index_neutral)"
   ]
  },
  {
   "cell_type": "code",
   "execution_count": 45,
   "metadata": {},
   "outputs": [],
   "source": [
    "lon_sectors = [150, 180, (360-150), (360-120), (360-90)]\n",
    "\n",
    "lon_labels = ['150E','180','150W','120W','90W']"
   ]
  },
  {
   "cell_type": "markdown",
   "metadata": {},
   "source": [
    "### selects the sector index here "
   ]
  },
  {
   "cell_type": "code",
   "execution_count": 46,
   "metadata": {},
   "outputs": [],
   "source": [
    "i = 0"
   ]
  },
  {
   "cell_type": "code",
   "execution_count": 47,
   "metadata": {},
   "outputs": [],
   "source": [
    "label_sector = f\"{lon_sectors[i]}E - {lon_sectors[i+1]}E\""
   ]
  },
  {
   "cell_type": "code",
   "execution_count": 48,
   "metadata": {},
   "outputs": [
    {
     "data": {
      "text/plain": [
       "'240E - 270E'"
      ]
     },
     "execution_count": 48,
     "metadata": {},
     "output_type": "execute_result"
    }
   ],
   "source": [
    "label_sector"
   ]
  },
  {
   "cell_type": "code",
   "execution_count": 49,
   "metadata": {},
   "outputs": [],
   "source": [
    "sector_seas_ninos = ninos_cmorph.sel(lon=slice(lon_sectors[i],lon_sectors[i+1])).mean('lon')"
   ]
  },
  {
   "cell_type": "code",
   "execution_count": 50,
   "metadata": {},
   "outputs": [],
   "source": [
    "sector_seas_ninas = ninas_cmorph.sel(lon=slice(lon_sectors[i],lon_sectors[i+1])).mean('lon')"
   ]
  },
  {
   "cell_type": "code",
   "execution_count": 51,
   "metadata": {},
   "outputs": [],
   "source": [
    "sector_seas_neutral = neutral_cmorph.sel(lon=slice(lon_sectors[i],lon_sectors[i+1])).mean('lon')"
   ]
  },
  {
   "cell_type": "code",
   "execution_count": 52,
   "metadata": {},
   "outputs": [],
   "source": [
    "last_year = dset_seas.sel(time=f\"{year}-{months[1]}\")"
   ]
  },
  {
   "cell_type": "code",
   "execution_count": 53,
   "metadata": {},
   "outputs": [],
   "source": [
    "last_year = last_year.sel(lon=slice(lon_sectors[i],lon_sectors[i+1])).mean('lon')"
   ]
  },
  {
   "cell_type": "code",
   "execution_count": 54,
   "metadata": {},
   "outputs": [],
   "source": [
    "sector_seas_ninos = sector_seas_ninos.to_dataframe().unstack()"
   ]
  },
  {
   "cell_type": "code",
   "execution_count": 55,
   "metadata": {},
   "outputs": [],
   "source": [
    "sector_seas_ninas = sector_seas_ninas.to_dataframe().unstack()"
   ]
  },
  {
   "cell_type": "code",
   "execution_count": 56,
   "metadata": {},
   "outputs": [],
   "source": [
    "sector_seas_neutral = sector_seas_neutral.to_dataframe().unstack()"
   ]
  },
  {
   "cell_type": "code",
   "execution_count": 57,
   "metadata": {},
   "outputs": [],
   "source": [
    "last_year = last_year.to_dataframe()"
   ]
  },
  {
   "cell_type": "code",
   "execution_count": 58,
   "metadata": {},
   "outputs": [],
   "source": [
    "last_year = last_year.loc[:,'prcp']"
   ]
  },
  {
   "cell_type": "code",
   "execution_count": 59,
   "metadata": {},
   "outputs": [],
   "source": [
    "last_year.index = last_year.index.droplevel(1)"
   ]
  },
  {
   "cell_type": "code",
   "execution_count": 60,
   "metadata": {},
   "outputs": [
    {
     "data": {
      "text/plain": [
       "lat\n",
       "-39.75    3.215678\n",
       "-39.25    3.216356\n",
       "-38.75    3.173864\n",
       "-38.25    3.203128\n",
       "-37.75    3.088732\n",
       "            ...   \n",
       " 27.75    1.282520\n",
       " 28.25    1.218999\n",
       " 28.75    1.216983\n",
       " 29.25    1.165117\n",
       " 29.75    0.981225\n",
       "Name: prcp, Length: 140, dtype: float32"
      ]
     },
     "execution_count": 60,
     "metadata": {},
     "output_type": "execute_result"
    }
   ],
   "source": [
    "last_year"
   ]
  },
  {
   "cell_type": "code",
   "execution_count": 61,
   "metadata": {},
   "outputs": [
    {
     "data": {
      "image/png": "[encoded data removed]",
      "text/plain": [
       "<Figure size 864x432 with 1 Axes>"
      ]
     },
     "metadata": {
      "needs_background": "light"
     },
     "output_type": "display_data"
    }
   ],
   "source": [
    "f, ax = plt.subplots(figsize=(12,6))\n",
    "\n",
    "ax.axvline(0, lw=1, color='k', ls='--')\n",
    "\n",
    "sector_seas_ninas.plot(ax=ax, color='b', legend=None, ls=':', lw=0.8)\n",
    "LN, = ax.plot(sector_seas_ninas.index, sector_seas_ninas.mean(axis=1), color='b', lw=2.5)\n",
    "\n",
    "sector_seas_ninos.plot(ax=ax, color='r', legend=None, ls=':', lw=0.8)\n",
    "EN, = ax.plot(sector_seas_ninos.index, sector_seas_ninos.mean(axis=1), color='r', lw=2.5)\n",
    "\n",
    "sector_seas_neutral.plot(ax=ax, color='g', legend=None, ls=':', lw=0.8)\n",
    "N, = ax.plot(sector_seas_neutral.index, sector_seas_neutral.mean(axis=1), color='g', lw=2.5)\n",
    "\n",
    "LY, = ax.plot(last_year.index, last_year, color='k', lw=3)\n",
    "\n",
    "ax.legend([LN, EN, N, LY], [f'La Nina ({len(ninas)})', f'El Nino ({len(ninos)})', f'Neutral ({len(neutral)})', str(year)], fontsize=14, loc=2, frameon=False )\n",
    "\n",
    "ax.set_xticks(np.arange(-40, 30, 10))\n",
    "ax.set_xticklabels([u'40\\u00B0S',u'30\\u00B0S',u'20\\u00B0S',u'10\\u00B0S','Equ.',u'10\\u00B0N',u'20\\u00B0N',u'30\\u00B0N'], fontsize=12); \n",
    "ax.set_xlabel('Latitude', fontsize=14)\n",
    "\n",
    "ax.set_yticks(np.arange(0, 22, 2)); \n",
    "ax.set_yticklabels(np.arange(0, 22, 2), fontsize=12); \n",
    "ax.set_ylabel(\"Rainfall (mm.day$^{-1}$)\", fontsize=12)\n",
    "\n",
    "ax.set_ylim(0, 20)\n",
    "\n",
    "ax.grid(ls=':')\n",
    "\n",
    "ax.set_title(title, loc='left', fontsize=14)\n",
    "\n",
    "ax.set_title(label_sector, loc='right', fontsize=14)\n",
    "\n",
    "f.savefig(f'../figures/comparison_last_year_ENSOs_{season}_{label_sector.replace(\" \",\"\")}.png', dpi=200)"
   ]
  }
 ],
 "metadata": {
  "kernelspec": {
   "display_name": "Python 3",
   "language": "python",
   "name": "python3"
  },
  "language_info": {
   "codemirror_mode": {
    "name": "ipython",
    "version": 3
   },
   "file_extension": ".py",
   "mimetype": "text/x-python",
   "name": "python",
   "nbconvert_exporter": "python",
   "pygments_lexer": "ipython3",
   "version": "3.7.5"
  }
 },
 "nbformat": 4,
 "nbformat_minor": 4
}
