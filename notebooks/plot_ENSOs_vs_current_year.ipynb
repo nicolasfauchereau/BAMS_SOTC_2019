{
 "cells": [
  {
   "cell_type": "code",
   "execution_count": 1,
   "metadata": {},
   "outputs": [],
   "source": [
    "%matplotlib inline\n",
    "from matplotlib import pyplot as plt"
   ]
  },
  {
   "cell_type": "code",
   "execution_count": 2,
   "metadata": {},
   "outputs": [],
   "source": [
    "import pathlib"
   ]
  },
  {
   "cell_type": "code",
   "execution_count": 3,
   "metadata": {},
   "outputs": [],
   "source": [
    "from collections import OrderedDict as OD"
   ]
  },
  {
   "cell_type": "code",
   "execution_count": 4,
   "metadata": {},
   "outputs": [],
   "source": [
    "import numpy as np \n",
    "import pandas as pd \n",
    "import xarray as xr"
   ]
  },
  {
   "cell_type": "markdown",
   "metadata": {},
   "source": [
    "### read the ONI from the CPC "
   ]
  },
  {
   "cell_type": "code",
   "execution_count": 5,
   "metadata": {},
   "outputs": [],
   "source": [
    "url = \"https://www.cpc.ncep.noaa.gov/data/indices/oni.ascii.txt\""
   ]
  },
  {
   "cell_type": "code",
   "execution_count": 6,
   "metadata": {},
   "outputs": [],
   "source": [
    "oni = pd.read_table(url,sep=r'\\s+', engine='python')"
   ]
  },
  {
   "cell_type": "code",
   "execution_count": 7,
   "metadata": {},
   "outputs": [],
   "source": [
    "oni = oni.loc[oni.YR > 1998,:]"
   ]
  },
  {
   "cell_type": "code",
   "execution_count": 8,
   "metadata": {},
   "outputs": [
    {
     "data": {
      "text/html": [
       "<div>\n",
       "<style scoped>\n",
       "    .dataframe tbody tr th:only-of-type {\n",
       "        vertical-align: middle;\n",
       "    }\n",
       "\n",
       "    .dataframe tbody tr th {\n",
       "        vertical-align: top;\n",
       "    }\n",
       "\n",
       "    .dataframe thead th {\n",
       "        text-align: right;\n",
       "    }\n",
       "</style>\n",
       "<table border=\"1\" class=\"dataframe\">\n",
       "  <thead>\n",
       "    <tr style=\"text-align: right;\">\n",
       "      <th></th>\n",
       "      <th>SEAS</th>\n",
       "      <th>YR</th>\n",
       "      <th>TOTAL</th>\n",
       "      <th>ANOM</th>\n",
       "    </tr>\n",
       "  </thead>\n",
       "  <tbody>\n",
       "    <tr>\n",
       "      <th>588</th>\n",
       "      <td>DJF</td>\n",
       "      <td>1999</td>\n",
       "      <td>25.08</td>\n",
       "      <td>-1.55</td>\n",
       "    </tr>\n",
       "    <tr>\n",
       "      <th>589</th>\n",
       "      <td>JFM</td>\n",
       "      <td>1999</td>\n",
       "      <td>25.55</td>\n",
       "      <td>-1.30</td>\n",
       "    </tr>\n",
       "    <tr>\n",
       "      <th>590</th>\n",
       "      <td>FMA</td>\n",
       "      <td>1999</td>\n",
       "      <td>26.17</td>\n",
       "      <td>-1.07</td>\n",
       "    </tr>\n",
       "    <tr>\n",
       "      <th>591</th>\n",
       "      <td>MAM</td>\n",
       "      <td>1999</td>\n",
       "      <td>26.62</td>\n",
       "      <td>-0.98</td>\n",
       "    </tr>\n",
       "    <tr>\n",
       "      <th>592</th>\n",
       "      <td>AMJ</td>\n",
       "      <td>1999</td>\n",
       "      <td>26.68</td>\n",
       "      <td>-1.02</td>\n",
       "    </tr>\n",
       "  </tbody>\n",
       "</table>\n",
       "</div>"
      ],
      "text/plain": [
       "    SEAS    YR  TOTAL  ANOM\n",
       "588  DJF  1999  25.08 -1.55\n",
       "589  JFM  1999  25.55 -1.30\n",
       "590  FMA  1999  26.17 -1.07\n",
       "591  MAM  1999  26.62 -0.98\n",
       "592  AMJ  1999  26.68 -1.02"
      ]
     },
     "execution_count": 8,
     "metadata": {},
     "output_type": "execute_result"
    }
   ],
   "source": [
    "oni.head()"
   ]
  },
  {
   "cell_type": "code",
   "execution_count": 9,
   "metadata": {},
   "outputs": [
    {
     "data": {
      "text/html": [
       "<div>\n",
       "<style scoped>\n",
       "    .dataframe tbody tr th:only-of-type {\n",
       "        vertical-align: middle;\n",
       "    }\n",
       "\n",
       "    .dataframe tbody tr th {\n",
       "        vertical-align: top;\n",
       "    }\n",
       "\n",
       "    .dataframe thead th {\n",
       "        text-align: right;\n",
       "    }\n",
       "</style>\n",
       "<table border=\"1\" class=\"dataframe\">\n",
       "  <thead>\n",
       "    <tr style=\"text-align: right;\">\n",
       "      <th></th>\n",
       "      <th>SEAS</th>\n",
       "      <th>YR</th>\n",
       "      <th>TOTAL</th>\n",
       "      <th>ANOM</th>\n",
       "    </tr>\n",
       "  </thead>\n",
       "  <tbody>\n",
       "    <tr>\n",
       "      <th>834</th>\n",
       "      <td>JJA</td>\n",
       "      <td>2019</td>\n",
       "      <td>27.57</td>\n",
       "      <td>0.30</td>\n",
       "    </tr>\n",
       "    <tr>\n",
       "      <th>835</th>\n",
       "      <td>JAS</td>\n",
       "      <td>2019</td>\n",
       "      <td>27.10</td>\n",
       "      <td>0.11</td>\n",
       "    </tr>\n",
       "    <tr>\n",
       "      <th>836</th>\n",
       "      <td>ASO</td>\n",
       "      <td>2019</td>\n",
       "      <td>26.95</td>\n",
       "      <td>0.13</td>\n",
       "    </tr>\n",
       "    <tr>\n",
       "      <th>837</th>\n",
       "      <td>SON</td>\n",
       "      <td>2019</td>\n",
       "      <td>27.06</td>\n",
       "      <td>0.29</td>\n",
       "    </tr>\n",
       "    <tr>\n",
       "      <th>838</th>\n",
       "      <td>OND</td>\n",
       "      <td>2019</td>\n",
       "      <td>27.18</td>\n",
       "      <td>0.46</td>\n",
       "    </tr>\n",
       "  </tbody>\n",
       "</table>\n",
       "</div>"
      ],
      "text/plain": [
       "    SEAS    YR  TOTAL  ANOM\n",
       "834  JJA  2019  27.57  0.30\n",
       "835  JAS  2019  27.10  0.11\n",
       "836  ASO  2019  26.95  0.13\n",
       "837  SON  2019  27.06  0.29\n",
       "838  OND  2019  27.18  0.46"
      ]
     },
     "execution_count": 9,
     "metadata": {},
     "output_type": "execute_result"
    }
   ],
   "source": [
    "oni.tail()"
   ]
  },
  {
   "cell_type": "code",
   "execution_count": 10,
   "metadata": {},
   "outputs": [],
   "source": [
    "year = 2018"
   ]
  },
  {
   "cell_type": "code",
   "execution_count": 11,
   "metadata": {},
   "outputs": [],
   "source": [
    "season = 'OND'"
   ]
  },
  {
   "cell_type": "code",
   "execution_count": 12,
   "metadata": {},
   "outputs": [],
   "source": [
    "months = [10, 12]"
   ]
  },
  {
   "cell_type": "code",
   "execution_count": 13,
   "metadata": {},
   "outputs": [],
   "source": [
    "oni_seas = oni.loc[oni.SEAS == season]"
   ]
  },
  {
   "cell_type": "code",
   "execution_count": 14,
   "metadata": {},
   "outputs": [
    {
     "data": {
      "text/html": [
       "<div>\n",
       "<style scoped>\n",
       "    .dataframe tbody tr th:only-of-type {\n",
       "        vertical-align: middle;\n",
       "    }\n",
       "\n",
       "    .dataframe tbody tr th {\n",
       "        vertical-align: top;\n",
       "    }\n",
       "\n",
       "    .dataframe thead th {\n",
       "        text-align: right;\n",
       "    }\n",
       "</style>\n",
       "<table border=\"1\" class=\"dataframe\">\n",
       "  <thead>\n",
       "    <tr style=\"text-align: right;\">\n",
       "      <th></th>\n",
       "      <th>SEAS</th>\n",
       "      <th>YR</th>\n",
       "      <th>TOTAL</th>\n",
       "      <th>ANOM</th>\n",
       "    </tr>\n",
       "  </thead>\n",
       "  <tbody>\n",
       "    <tr>\n",
       "      <th>598</th>\n",
       "      <td>OND</td>\n",
       "      <td>1999</td>\n",
       "      <td>25.16</td>\n",
       "      <td>-1.46</td>\n",
       "    </tr>\n",
       "    <tr>\n",
       "      <th>610</th>\n",
       "      <td>OND</td>\n",
       "      <td>2000</td>\n",
       "      <td>25.88</td>\n",
       "      <td>-0.75</td>\n",
       "    </tr>\n",
       "    <tr>\n",
       "      <th>622</th>\n",
       "      <td>OND</td>\n",
       "      <td>2001</td>\n",
       "      <td>26.37</td>\n",
       "      <td>-0.35</td>\n",
       "    </tr>\n",
       "    <tr>\n",
       "      <th>634</th>\n",
       "      <td>OND</td>\n",
       "      <td>2002</td>\n",
       "      <td>28.03</td>\n",
       "      <td>1.31</td>\n",
       "    </tr>\n",
       "    <tr>\n",
       "      <th>646</th>\n",
       "      <td>OND</td>\n",
       "      <td>2003</td>\n",
       "      <td>27.07</td>\n",
       "      <td>0.35</td>\n",
       "    </tr>\n",
       "    <tr>\n",
       "      <th>658</th>\n",
       "      <td>OND</td>\n",
       "      <td>2004</td>\n",
       "      <td>27.38</td>\n",
       "      <td>0.66</td>\n",
       "    </tr>\n",
       "    <tr>\n",
       "      <th>670</th>\n",
       "      <td>OND</td>\n",
       "      <td>2005</td>\n",
       "      <td>26.15</td>\n",
       "      <td>-0.57</td>\n",
       "    </tr>\n",
       "    <tr>\n",
       "      <th>682</th>\n",
       "      <td>OND</td>\n",
       "      <td>2006</td>\n",
       "      <td>27.62</td>\n",
       "      <td>0.90</td>\n",
       "    </tr>\n",
       "    <tr>\n",
       "      <th>694</th>\n",
       "      <td>OND</td>\n",
       "      <td>2007</td>\n",
       "      <td>25.17</td>\n",
       "      <td>-1.54</td>\n",
       "    </tr>\n",
       "    <tr>\n",
       "      <th>706</th>\n",
       "      <td>OND</td>\n",
       "      <td>2008</td>\n",
       "      <td>26.12</td>\n",
       "      <td>-0.60</td>\n",
       "    </tr>\n",
       "    <tr>\n",
       "      <th>718</th>\n",
       "      <td>OND</td>\n",
       "      <td>2009</td>\n",
       "      <td>28.03</td>\n",
       "      <td>1.31</td>\n",
       "    </tr>\n",
       "    <tr>\n",
       "      <th>730</th>\n",
       "      <td>OND</td>\n",
       "      <td>2010</td>\n",
       "      <td>25.03</td>\n",
       "      <td>-1.69</td>\n",
       "    </tr>\n",
       "    <tr>\n",
       "      <th>742</th>\n",
       "      <td>OND</td>\n",
       "      <td>2011</td>\n",
       "      <td>25.58</td>\n",
       "      <td>-1.14</td>\n",
       "    </tr>\n",
       "    <tr>\n",
       "      <th>754</th>\n",
       "      <td>OND</td>\n",
       "      <td>2012</td>\n",
       "      <td>26.73</td>\n",
       "      <td>0.01</td>\n",
       "    </tr>\n",
       "    <tr>\n",
       "      <th>766</th>\n",
       "      <td>OND</td>\n",
       "      <td>2013</td>\n",
       "      <td>26.50</td>\n",
       "      <td>-0.22</td>\n",
       "    </tr>\n",
       "    <tr>\n",
       "      <th>778</th>\n",
       "      <td>OND</td>\n",
       "      <td>2014</td>\n",
       "      <td>27.31</td>\n",
       "      <td>0.59</td>\n",
       "    </tr>\n",
       "    <tr>\n",
       "      <th>790</th>\n",
       "      <td>OND</td>\n",
       "      <td>2015</td>\n",
       "      <td>29.25</td>\n",
       "      <td>2.53</td>\n",
       "    </tr>\n",
       "    <tr>\n",
       "      <th>802</th>\n",
       "      <td>OND</td>\n",
       "      <td>2016</td>\n",
       "      <td>26.01</td>\n",
       "      <td>-0.71</td>\n",
       "    </tr>\n",
       "    <tr>\n",
       "      <th>814</th>\n",
       "      <td>OND</td>\n",
       "      <td>2017</td>\n",
       "      <td>25.84</td>\n",
       "      <td>-0.88</td>\n",
       "    </tr>\n",
       "    <tr>\n",
       "      <th>826</th>\n",
       "      <td>OND</td>\n",
       "      <td>2018</td>\n",
       "      <td>27.57</td>\n",
       "      <td>0.85</td>\n",
       "    </tr>\n",
       "    <tr>\n",
       "      <th>838</th>\n",
       "      <td>OND</td>\n",
       "      <td>2019</td>\n",
       "      <td>27.18</td>\n",
       "      <td>0.46</td>\n",
       "    </tr>\n",
       "  </tbody>\n",
       "</table>\n",
       "</div>"
      ],
      "text/plain": [
       "    SEAS    YR  TOTAL  ANOM\n",
       "598  OND  1999  25.16 -1.46\n",
       "610  OND  2000  25.88 -0.75\n",
       "622  OND  2001  26.37 -0.35\n",
       "634  OND  2002  28.03  1.31\n",
       "646  OND  2003  27.07  0.35\n",
       "658  OND  2004  27.38  0.66\n",
       "670  OND  2005  26.15 -0.57\n",
       "682  OND  2006  27.62  0.90\n",
       "694  OND  2007  25.17 -1.54\n",
       "706  OND  2008  26.12 -0.60\n",
       "718  OND  2009  28.03  1.31\n",
       "730  OND  2010  25.03 -1.69\n",
       "742  OND  2011  25.58 -1.14\n",
       "754  OND  2012  26.73  0.01\n",
       "766  OND  2013  26.50 -0.22\n",
       "778  OND  2014  27.31  0.59\n",
       "790  OND  2015  29.25  2.53\n",
       "802  OND  2016  26.01 -0.71\n",
       "814  OND  2017  25.84 -0.88\n",
       "826  OND  2018  27.57  0.85\n",
       "838  OND  2019  27.18  0.46"
      ]
     },
     "execution_count": 14,
     "metadata": {},
     "output_type": "execute_result"
    }
   ],
   "source": [
    "oni_seas"
   ]
  },
  {
   "cell_type": "code",
   "execution_count": 15,
   "metadata": {},
   "outputs": [],
   "source": [
    "ONI_threshold = 0.7"
   ]
  },
  {
   "cell_type": "code",
   "execution_count": 16,
   "metadata": {},
   "outputs": [],
   "source": [
    "ninos = oni_seas.query('ANOM > {}'.format(ONI_threshold))"
   ]
  },
  {
   "cell_type": "code",
   "execution_count": 17,
   "metadata": {},
   "outputs": [],
   "source": [
    "ninas = oni_seas.query('ANOM < {}'.format(-ONI_threshold))"
   ]
  },
  {
   "cell_type": "code",
   "execution_count": 18,
   "metadata": {},
   "outputs": [],
   "source": [
    "neutral = oni_seas.query(f'{-ONI_threshold} <= ANOM <= {ONI_threshold}')"
   ]
  },
  {
   "cell_type": "code",
   "execution_count": 19,
   "metadata": {},
   "outputs": [
    {
     "data": {
      "text/html": [
       "<div>\n",
       "<style scoped>\n",
       "    .dataframe tbody tr th:only-of-type {\n",
       "        vertical-align: middle;\n",
       "    }\n",
       "\n",
       "    .dataframe tbody tr th {\n",
       "        vertical-align: top;\n",
       "    }\n",
       "\n",
       "    .dataframe thead th {\n",
       "        text-align: right;\n",
       "    }\n",
       "</style>\n",
       "<table border=\"1\" class=\"dataframe\">\n",
       "  <thead>\n",
       "    <tr style=\"text-align: right;\">\n",
       "      <th></th>\n",
       "      <th>SEAS</th>\n",
       "      <th>YR</th>\n",
       "      <th>TOTAL</th>\n",
       "      <th>ANOM</th>\n",
       "    </tr>\n",
       "  </thead>\n",
       "  <tbody>\n",
       "    <tr>\n",
       "      <th>634</th>\n",
       "      <td>OND</td>\n",
       "      <td>2002</td>\n",
       "      <td>28.03</td>\n",
       "      <td>1.31</td>\n",
       "    </tr>\n",
       "    <tr>\n",
       "      <th>682</th>\n",
       "      <td>OND</td>\n",
       "      <td>2006</td>\n",
       "      <td>27.62</td>\n",
       "      <td>0.90</td>\n",
       "    </tr>\n",
       "    <tr>\n",
       "      <th>718</th>\n",
       "      <td>OND</td>\n",
       "      <td>2009</td>\n",
       "      <td>28.03</td>\n",
       "      <td>1.31</td>\n",
       "    </tr>\n",
       "    <tr>\n",
       "      <th>790</th>\n",
       "      <td>OND</td>\n",
       "      <td>2015</td>\n",
       "      <td>29.25</td>\n",
       "      <td>2.53</td>\n",
       "    </tr>\n",
       "    <tr>\n",
       "      <th>826</th>\n",
       "      <td>OND</td>\n",
       "      <td>2018</td>\n",
       "      <td>27.57</td>\n",
       "      <td>0.85</td>\n",
       "    </tr>\n",
       "  </tbody>\n",
       "</table>\n",
       "</div>"
      ],
      "text/plain": [
       "    SEAS    YR  TOTAL  ANOM\n",
       "634  OND  2002  28.03  1.31\n",
       "682  OND  2006  27.62  0.90\n",
       "718  OND  2009  28.03  1.31\n",
       "790  OND  2015  29.25  2.53\n",
       "826  OND  2018  27.57  0.85"
      ]
     },
     "execution_count": 19,
     "metadata": {},
     "output_type": "execute_result"
    }
   ],
   "source": [
    "ninos"
   ]
  },
  {
   "cell_type": "code",
   "execution_count": 20,
   "metadata": {},
   "outputs": [
    {
     "data": {
      "text/html": [
       "<div>\n",
       "<style scoped>\n",
       "    .dataframe tbody tr th:only-of-type {\n",
       "        vertical-align: middle;\n",
       "    }\n",
       "\n",
       "    .dataframe tbody tr th {\n",
       "        vertical-align: top;\n",
       "    }\n",
       "\n",
       "    .dataframe thead th {\n",
       "        text-align: right;\n",
       "    }\n",
       "</style>\n",
       "<table border=\"1\" class=\"dataframe\">\n",
       "  <thead>\n",
       "    <tr style=\"text-align: right;\">\n",
       "      <th></th>\n",
       "      <th>SEAS</th>\n",
       "      <th>YR</th>\n",
       "      <th>TOTAL</th>\n",
       "      <th>ANOM</th>\n",
       "    </tr>\n",
       "  </thead>\n",
       "  <tbody>\n",
       "    <tr>\n",
       "      <th>598</th>\n",
       "      <td>OND</td>\n",
       "      <td>1999</td>\n",
       "      <td>25.16</td>\n",
       "      <td>-1.46</td>\n",
       "    </tr>\n",
       "    <tr>\n",
       "      <th>610</th>\n",
       "      <td>OND</td>\n",
       "      <td>2000</td>\n",
       "      <td>25.88</td>\n",
       "      <td>-0.75</td>\n",
       "    </tr>\n",
       "    <tr>\n",
       "      <th>694</th>\n",
       "      <td>OND</td>\n",
       "      <td>2007</td>\n",
       "      <td>25.17</td>\n",
       "      <td>-1.54</td>\n",
       "    </tr>\n",
       "    <tr>\n",
       "      <th>730</th>\n",
       "      <td>OND</td>\n",
       "      <td>2010</td>\n",
       "      <td>25.03</td>\n",
       "      <td>-1.69</td>\n",
       "    </tr>\n",
       "    <tr>\n",
       "      <th>742</th>\n",
       "      <td>OND</td>\n",
       "      <td>2011</td>\n",
       "      <td>25.58</td>\n",
       "      <td>-1.14</td>\n",
       "    </tr>\n",
       "    <tr>\n",
       "      <th>802</th>\n",
       "      <td>OND</td>\n",
       "      <td>2016</td>\n",
       "      <td>26.01</td>\n",
       "      <td>-0.71</td>\n",
       "    </tr>\n",
       "    <tr>\n",
       "      <th>814</th>\n",
       "      <td>OND</td>\n",
       "      <td>2017</td>\n",
       "      <td>25.84</td>\n",
       "      <td>-0.88</td>\n",
       "    </tr>\n",
       "  </tbody>\n",
       "</table>\n",
       "</div>"
      ],
      "text/plain": [
       "    SEAS    YR  TOTAL  ANOM\n",
       "598  OND  1999  25.16 -1.46\n",
       "610  OND  2000  25.88 -0.75\n",
       "694  OND  2007  25.17 -1.54\n",
       "730  OND  2010  25.03 -1.69\n",
       "742  OND  2011  25.58 -1.14\n",
       "802  OND  2016  26.01 -0.71\n",
       "814  OND  2017  25.84 -0.88"
      ]
     },
     "execution_count": 20,
     "metadata": {},
     "output_type": "execute_result"
    }
   ],
   "source": [
    "ninas"
   ]
  },
  {
   "cell_type": "code",
   "execution_count": 21,
   "metadata": {},
   "outputs": [
    {
     "data": {
      "text/html": [
       "<div>\n",
       "<style scoped>\n",
       "    .dataframe tbody tr th:only-of-type {\n",
       "        vertical-align: middle;\n",
       "    }\n",
       "\n",
       "    .dataframe tbody tr th {\n",
       "        vertical-align: top;\n",
       "    }\n",
       "\n",
       "    .dataframe thead th {\n",
       "        text-align: right;\n",
       "    }\n",
       "</style>\n",
       "<table border=\"1\" class=\"dataframe\">\n",
       "  <thead>\n",
       "    <tr style=\"text-align: right;\">\n",
       "      <th></th>\n",
       "      <th>SEAS</th>\n",
       "      <th>YR</th>\n",
       "      <th>TOTAL</th>\n",
       "      <th>ANOM</th>\n",
       "    </tr>\n",
       "  </thead>\n",
       "  <tbody>\n",
       "    <tr>\n",
       "      <th>622</th>\n",
       "      <td>OND</td>\n",
       "      <td>2001</td>\n",
       "      <td>26.37</td>\n",
       "      <td>-0.35</td>\n",
       "    </tr>\n",
       "    <tr>\n",
       "      <th>646</th>\n",
       "      <td>OND</td>\n",
       "      <td>2003</td>\n",
       "      <td>27.07</td>\n",
       "      <td>0.35</td>\n",
       "    </tr>\n",
       "    <tr>\n",
       "      <th>658</th>\n",
       "      <td>OND</td>\n",
       "      <td>2004</td>\n",
       "      <td>27.38</td>\n",
       "      <td>0.66</td>\n",
       "    </tr>\n",
       "    <tr>\n",
       "      <th>670</th>\n",
       "      <td>OND</td>\n",
       "      <td>2005</td>\n",
       "      <td>26.15</td>\n",
       "      <td>-0.57</td>\n",
       "    </tr>\n",
       "    <tr>\n",
       "      <th>706</th>\n",
       "      <td>OND</td>\n",
       "      <td>2008</td>\n",
       "      <td>26.12</td>\n",
       "      <td>-0.60</td>\n",
       "    </tr>\n",
       "    <tr>\n",
       "      <th>754</th>\n",
       "      <td>OND</td>\n",
       "      <td>2012</td>\n",
       "      <td>26.73</td>\n",
       "      <td>0.01</td>\n",
       "    </tr>\n",
       "    <tr>\n",
       "      <th>766</th>\n",
       "      <td>OND</td>\n",
       "      <td>2013</td>\n",
       "      <td>26.50</td>\n",
       "      <td>-0.22</td>\n",
       "    </tr>\n",
       "    <tr>\n",
       "      <th>778</th>\n",
       "      <td>OND</td>\n",
       "      <td>2014</td>\n",
       "      <td>27.31</td>\n",
       "      <td>0.59</td>\n",
       "    </tr>\n",
       "    <tr>\n",
       "      <th>838</th>\n",
       "      <td>OND</td>\n",
       "      <td>2019</td>\n",
       "      <td>27.18</td>\n",
       "      <td>0.46</td>\n",
       "    </tr>\n",
       "  </tbody>\n",
       "</table>\n",
       "</div>"
      ],
      "text/plain": [
       "    SEAS    YR  TOTAL  ANOM\n",
       "622  OND  2001  26.37 -0.35\n",
       "646  OND  2003  27.07  0.35\n",
       "658  OND  2004  27.38  0.66\n",
       "670  OND  2005  26.15 -0.57\n",
       "706  OND  2008  26.12 -0.60\n",
       "754  OND  2012  26.73  0.01\n",
       "766  OND  2013  26.50 -0.22\n",
       "778  OND  2014  27.31  0.59\n",
       "838  OND  2019  27.18  0.46"
      ]
     },
     "execution_count": 21,
     "metadata": {},
     "output_type": "execute_result"
    }
   ],
   "source": [
    "neutral"
   ]
  },
  {
   "cell_type": "markdown",
   "metadata": {},
   "source": [
    "## Now reads the CMORPH dataset "
   ]
  },
  {
   "cell_type": "markdown",
   "metadata": {},
   "source": [
    "**NOTE**: need to run \n",
    "    \n",
    "    \n",
    "```\n",
    "cdo settunits,days cmorph_monthly.nc cmorph_monthly_jan1998-jan2020.nc\n",
    "\n",
    "```\n",
    "\n",
    "in the `CDO` environment  \n",
    "\n",
    "in order to set the calendar so that it can be read by xarray "
   ]
  },
  {
   "cell_type": "code",
   "execution_count": 22,
   "metadata": {},
   "outputs": [],
   "source": [
    "dset = xr.open_dataset('../CMORPH/cmorph_monthly_jan1998-jan2020.nc')"
   ]
  },
  {
   "cell_type": "code",
   "execution_count": 23,
   "metadata": {},
   "outputs": [
    {
     "data": {
      "text/html": [
       "<pre>&lt;xarray.Dataset&gt;\n",
       "Dimensions:  (lat: 240, lon: 720, time: 265)\n",
       "Coordinates:\n",
       "  * time     (time) datetime64[ns] 1998-01-15 1998-02-15 ... 2020-01-15\n",
       "  * lon      (lon) float32 0.25 0.75 1.25 1.75 ... 358.25 358.75 359.25 359.75\n",
       "  * lat      (lat) float32 -59.75 -59.25 -58.75 -58.25 ... 58.75 59.25 59.75\n",
       "Data variables:\n",
       "    prcp     (time, lat, lon) float32 ...\n",
       "Attributes:\n",
       "    CDI:                        Climate Data Interface version 1.9.7.1 (http:...\n",
       "    history:                    Mon Jan 13 11:44:16 2020: cdo settunits,days ...\n",
       "    institution:                NCEP/CPC\n",
       "    Conventions:                CF-1.0\n",
       "    title:                      CMORPH Version 1.0, RAW daily precip from 00Z...\n",
       "    source_url:                 http://www.cpc.ncep.noaa.gov/products/janowia...\n",
       "    reference:                  Joyce, R. J., J. E. Janowiak, P. A. Arkin, an...\n",
       "    geospatial_lat_min:         -60.0\n",
       "    geospatial_lat_max:         60.0\n",
       "    geospatial_lat_units:       degrees_north\n",
       "    geospatial_lon_min:         0.0\n",
       "    geospatial_lon_max:         360.0\n",
       "    geospatial_lon_units:       degrees_east\n",
       "    geospatial_lat_resolution:  0.5\n",
       "    geospatial_lon_resolution:  0.5\n",
       "    time_coverage_start:        1998-01-01\n",
       "    time_coverage_end:          2020-01-10\n",
       "    climexp_url:                https://climexp.knmi.nl/select.cgi?cmorph_daily\n",
       "    CDO:                        Climate Data Operators version 1.9.7.1 (http:...</pre>"
      ],
      "text/plain": [
       "<xarray.Dataset>\n",
       "Dimensions:  (lat: 240, lon: 720, time: 265)\n",
       "Coordinates:\n",
       "  * time     (time) datetime64[ns] 1998-01-15 1998-02-15 ... 2020-01-15\n",
       "  * lon      (lon) float32 0.25 0.75 1.25 1.75 ... 358.25 358.75 359.25 359.75\n",
       "  * lat      (lat) float32 -59.75 -59.25 -58.75 -58.25 ... 58.75 59.25 59.75\n",
       "Data variables:\n",
       "    prcp     (time, lat, lon) float32 ...\n",
       "Attributes:\n",
       "    CDI:                        Climate Data Interface version 1.9.7.1 (http:...\n",
       "    history:                    Mon Jan 13 11:44:16 2020: cdo settunits,days ...\n",
       "    institution:                NCEP/CPC\n",
       "    Conventions:                CF-1.0\n",
       "    title:                      CMORPH Version 1.0, RAW daily precip from 00Z...\n",
       "    source_url:                 http://www.cpc.ncep.noaa.gov/products/janowia...\n",
       "    reference:                  Joyce, R. J., J. E. Janowiak, P. A. Arkin, an...\n",
       "    geospatial_lat_min:         -60.0\n",
       "    geospatial_lat_max:         60.0\n",
       "    geospatial_lat_units:       degrees_north\n",
       "    geospatial_lon_min:         0.0\n",
       "    geospatial_lon_max:         360.0\n",
       "    geospatial_lon_units:       degrees_east\n",
       "    geospatial_lat_resolution:  0.5\n",
       "    geospatial_lon_resolution:  0.5\n",
       "    time_coverage_start:        1998-01-01\n",
       "    time_coverage_end:          2020-01-10\n",
       "    climexp_url:                https://climexp.knmi.nl/select.cgi?cmorph_daily\n",
       "    CDO:                        Climate Data Operators version 1.9.7.1 (http:..."
      ]
     },
     "execution_count": 23,
     "metadata": {},
     "output_type": "execute_result"
    }
   ],
   "source": [
    "dset"
   ]
  },
  {
   "cell_type": "markdown",
   "metadata": {},
   "source": [
    "### restrict the domain to [110.,-30.,280.,20.] for tthe sector plots"
   ]
  },
  {
   "cell_type": "code",
   "execution_count": 24,
   "metadata": {},
   "outputs": [],
   "source": [
    "dset = dset.sel(lat=slice(-40., 30.), lon=slice(150, 360 - 90))"
   ]
  },
  {
   "cell_type": "markdown",
   "metadata": {},
   "source": [
    "### calculate the climatology "
   ]
  },
  {
   "cell_type": "code",
   "execution_count": 25,
   "metadata": {},
   "outputs": [],
   "source": [
    "clim = dset.sel(time=slice('1998','2018'))"
   ]
  },
  {
   "cell_type": "code",
   "execution_count": 26,
   "metadata": {},
   "outputs": [],
   "source": [
    "clim = clim.groupby(clim.time.dt.month).mean('time')"
   ]
  },
  {
   "cell_type": "code",
   "execution_count": 27,
   "metadata": {},
   "outputs": [],
   "source": [
    "lon_sectors = [150, 180, (360-150), (360-120), (360-90)]\n",
    "lon_labels = ['150E','180','150W','120W','90W']"
   ]
  },
  {
   "cell_type": "markdown",
   "metadata": {},
   "source": [
    "### calculates the seasonal averages from the monthly means "
   ]
  },
  {
   "cell_type": "code",
   "execution_count": 28,
   "metadata": {},
   "outputs": [],
   "source": [
    "dset_seas = dset.rolling(time=3, min_periods=3).mean()"
   ]
  },
  {
   "cell_type": "code",
   "execution_count": 29,
   "metadata": {},
   "outputs": [
    {
     "data": {
      "text/html": [
       "<pre>&lt;xarray.Dataset&gt;\n",
       "Dimensions:  (lat: 140, lon: 240, time: 265)\n",
       "Coordinates:\n",
       "  * time     (time) datetime64[ns] 1998-01-15 1998-02-15 ... 2020-01-15\n",
       "  * lon      (lon) float32 150.25 150.75 151.25 151.75 ... 268.75 269.25 269.75\n",
       "  * lat      (lat) float32 -39.75 -39.25 -38.75 -38.25 ... 28.75 29.25 29.75\n",
       "Data variables:\n",
       "    prcp     (time, lat, lon) float32 nan nan nan ... 1.5302474 1.5843872</pre>"
      ],
      "text/plain": [
       "<xarray.Dataset>\n",
       "Dimensions:  (lat: 140, lon: 240, time: 265)\n",
       "Coordinates:\n",
       "  * time     (time) datetime64[ns] 1998-01-15 1998-02-15 ... 2020-01-15\n",
       "  * lon      (lon) float32 150.25 150.75 151.25 151.75 ... 268.75 269.25 269.75\n",
       "  * lat      (lat) float32 -39.75 -39.25 -38.75 -38.25 ... 28.75 29.25 29.75\n",
       "Data variables:\n",
       "    prcp     (time, lat, lon) float32 nan nan nan ... 1.5302474 1.5843872"
      ]
     },
     "execution_count": 29,
     "metadata": {},
     "output_type": "execute_result"
    }
   ],
   "source": [
    "dset_seas"
   ]
  },
  {
   "cell_type": "code",
   "execution_count": 30,
   "metadata": {},
   "outputs": [
    {
     "data": {
      "text/html": [
       "<pre>&lt;xarray.DataArray &#x27;month&#x27; (time: 265)&gt;\n",
       "array([False, False, False, False, False, False, False, False, False,\n",
       "       False, False,  True, False, False, False, False, False, False,\n",
       "       False, False, False, False, False,  True, False, False, False,\n",
       "       False, False, False, False, False, False, False, False,  True,\n",
       "       False, False, False, False, False, False, False, False, False,\n",
       "       False, False,  True, False, False, False, False, False, False,\n",
       "       False, False, False, False, False,  True, False, False, False,\n",
       "       False, False, False, False, False, False, False, False,  True,\n",
       "       False, False, False, False, False, False, False, False, False,\n",
       "       False, False,  True, False, False, False, False, False, False,\n",
       "       False, False, False, False, False,  True, False, False, False,\n",
       "       False, False, False, False, False, False, False, False,  True,\n",
       "       False, False, False, False, False, False, False, False, False,\n",
       "       False, False,  True, False, False, False, False, False, False,\n",
       "       False, False, False, False, False,  True, False, False, False,\n",
       "       False, False, False, False, False, False, False, False,  True,\n",
       "       False, False, False, False, False, False, False, False, False,\n",
       "       False, False,  True, False, False, False, False, False, False,\n",
       "       False, False, False, False, False,  True, False, False, False,\n",
       "       False, False, False, False, False, False, False, False,  True,\n",
       "       False, False, False, False, False, False, False, False, False,\n",
       "       False, False,  True, False, False, False, False, False, False,\n",
       "       False, False, False, False, False,  True, False, False, False,\n",
       "       False, False, False, False, False, False, False, False,  True,\n",
       "       False, False, False, False, False, False, False, False, False,\n",
       "       False, False,  True, False, False, False, False, False, False,\n",
       "       False, False, False, False, False,  True, False, False, False,\n",
       "       False, False, False, False, False, False, False, False,  True,\n",
       "       False, False, False, False, False, False, False, False, False,\n",
       "       False, False,  True, False])\n",
       "Coordinates:\n",
       "  * time     (time) datetime64[ns] 1998-01-15 1998-02-15 ... 2020-01-15</pre>"
      ],
      "text/plain": [
       "<xarray.DataArray 'month' (time: 265)>\n",
       "array([False, False, False, False, False, False, False, False, False,\n",
       "       False, False,  True, False, False, False, False, False, False,\n",
       "       False, False, False, False, False,  True, False, False, False,\n",
       "       False, False, False, False, False, False, False, False,  True,\n",
       "       False, False, False, False, False, False, False, False, False,\n",
       "       False, False,  True, False, False, False, False, False, False,\n",
       "       False, False, False, False, False,  True, False, False, False,\n",
       "       False, False, False, False, False, False, False, False,  True,\n",
       "       False, False, False, False, False, False, False, False, False,\n",
       "       False, False,  True, False, False, False, False, False, False,\n",
       "       False, False, False, False, False,  True, False, False, False,\n",
       "       False, False, False, False, False, False, False, False,  True,\n",
       "       False, False, False, False, False, False, False, False, False,\n",
       "       False, False,  True, False, False, False, False, False, False,\n",
       "       False, False, False, False, False,  True, False, False, False,\n",
       "       False, False, False, False, False, False, False, False,  True,\n",
       "       False, False, False, False, False, False, False, False, False,\n",
       "       False, False,  True, False, False, False, False, False, False,\n",
       "       False, False, False, False, False,  True, False, False, False,\n",
       "       False, False, False, False, False, False, False, False,  True,\n",
       "       False, False, False, False, False, False, False, False, False,\n",
       "       False, False,  True, False, False, False, False, False, False,\n",
       "       False, False, False, False, False,  True, False, False, False,\n",
       "       False, False, False, False, False, False, False, False,  True,\n",
       "       False, False, False, False, False, False, False, False, False,\n",
       "       False, False,  True, False, False, False, False, False, False,\n",
       "       False, False, False, False, False,  True, False, False, False,\n",
       "       False, False, False, False, False, False, False, False,  True,\n",
       "       False, False, False, False, False, False, False, False, False,\n",
       "       False, False,  True, False])\n",
       "Coordinates:\n",
       "  * time     (time) datetime64[ns] 1998-01-15 1998-02-15 ... 2020-01-15"
      ]
     },
     "execution_count": 30,
     "metadata": {},
     "output_type": "execute_result"
    }
   ],
   "source": [
    "dset_seas.time.dt.month == months[1]"
   ]
  },
  {
   "cell_type": "code",
   "execution_count": 31,
   "metadata": {},
   "outputs": [],
   "source": [
    "dset_seas = dset_seas.sel(time=(dset_seas.time.dt.month == months[1]))"
   ]
  },
  {
   "cell_type": "code",
   "execution_count": 32,
   "metadata": {},
   "outputs": [
    {
     "data": {
      "text/plain": [
       "array([2002, 2006, 2009, 2015, 2018])"
      ]
     },
     "execution_count": 32,
     "metadata": {},
     "output_type": "execute_result"
    }
   ],
   "source": [
    "ninos.YR.values"
   ]
  },
  {
   "cell_type": "code",
   "execution_count": 33,
   "metadata": {},
   "outputs": [],
   "source": [
    "from datetime import datetime"
   ]
  },
  {
   "cell_type": "code",
   "execution_count": 34,
   "metadata": {},
   "outputs": [],
   "source": [
    "time_index_ninos = [datetime(y, months[1], 15) for y in ninos.YR.values]\n",
    "time_index_ninas = [datetime(y, months[1], 15) for y in ninas.YR.values]\n",
    "time_index_neutral = [datetime(y, months[1], 15) for y in neutral.YR.values]"
   ]
  },
  {
   "cell_type": "code",
   "execution_count": 35,
   "metadata": {},
   "outputs": [],
   "source": [
    "ninos_cmorph = dset_seas.sel(time=time_index_ninos)"
   ]
  },
  {
   "cell_type": "code",
   "execution_count": 36,
   "metadata": {},
   "outputs": [],
   "source": [
    "ninas_cmorph = dset_seas.sel(time=time_index_ninas)"
   ]
  },
  {
   "cell_type": "code",
   "execution_count": 37,
   "metadata": {},
   "outputs": [],
   "source": [
    "neutral_cmorph = dset_seas.sel(time=time_index_neutral)"
   ]
  },
  {
   "cell_type": "code",
   "execution_count": 38,
   "metadata": {},
   "outputs": [],
   "source": [
    "lon_sectors = [150, 180, (360-150), (360-120), (360-90)]\n",
    "lon_labels = ['150E','180','150W','120W','90W']"
   ]
  },
  {
   "cell_type": "code",
   "execution_count": 39,
   "metadata": {},
   "outputs": [],
   "source": [
    "i = 0"
   ]
  },
  {
   "cell_type": "code",
   "execution_count": 40,
   "metadata": {},
   "outputs": [],
   "source": [
    "sector_seas_ninos = ninos_cmorph.sel(lon=slice(lon_sectors[i],lon_sectors[i+1])).mean('lon')"
   ]
  },
  {
   "cell_type": "code",
   "execution_count": 41,
   "metadata": {},
   "outputs": [],
   "source": [
    "sector_seas_ninas = ninas_cmorph.sel(lon=slice(lon_sectors[i],lon_sectors[i+1])).mean('lon')"
   ]
  },
  {
   "cell_type": "code",
   "execution_count": 42,
   "metadata": {},
   "outputs": [],
   "source": [
    "sector_seas_neutral = neutral_cmorph.sel(lon=slice(lon_sectors[i],lon_sectors[i+1])).mean('lon')"
   ]
  },
  {
   "cell_type": "code",
   "execution_count": 43,
   "metadata": {},
   "outputs": [],
   "source": [
    "last_year = dset_seas.sel(time=f\"{year}-{months[1]}\")"
   ]
  },
  {
   "cell_type": "code",
   "execution_count": 44,
   "metadata": {},
   "outputs": [],
   "source": [
    "last_year = last_year.sel(lon=slice(lon_sectors[i],lon_sectors[i+1])).mean('lon')"
   ]
  },
  {
   "cell_type": "code",
   "execution_count": 45,
   "metadata": {},
   "outputs": [],
   "source": [
    "sector_seas_ninos = sector_seas_ninos.to_dataframe().unstack()"
   ]
  },
  {
   "cell_type": "code",
   "execution_count": 46,
   "metadata": {},
   "outputs": [],
   "source": [
    "sector_seas_ninas = sector_seas_ninas.to_dataframe().unstack()"
   ]
  },
  {
   "cell_type": "code",
   "execution_count": 47,
   "metadata": {},
   "outputs": [],
   "source": [
    "sector_seas_neutral = sector_seas_neutral.to_dataframe().unstack()"
   ]
  },
  {
   "cell_type": "code",
   "execution_count": 48,
   "metadata": {},
   "outputs": [],
   "source": [
    "last_year = last_year.to_dataframe()"
   ]
  },
  {
   "cell_type": "code",
   "execution_count": 49,
   "metadata": {},
   "outputs": [],
   "source": [
    "last_year = last_year.loc[:,'prcp']"
   ]
  },
  {
   "cell_type": "code",
   "execution_count": 50,
   "metadata": {},
   "outputs": [],
   "source": [
    "last_year.index = last_year.index.droplevel(1)"
   ]
  },
  {
   "cell_type": "code",
   "execution_count": 51,
   "metadata": {},
   "outputs": [
    {
     "data": {
      "text/plain": [
       "lat\n",
       "-39.75    2.104149\n",
       "-39.25    1.979999\n",
       "-38.75    2.093758\n",
       "-38.25    2.086081\n",
       "-37.75    2.264699\n",
       "            ...   \n",
       " 27.75    2.707287\n",
       " 28.25    2.955035\n",
       " 28.75    3.329372\n",
       " 29.25    3.709698\n",
       " 29.75    4.116752\n",
       "Name: prcp, Length: 140, dtype: float32"
      ]
     },
     "execution_count": 51,
     "metadata": {},
     "output_type": "execute_result"
    }
   ],
   "source": [
    "last_year"
   ]
  },
  {
   "cell_type": "code",
   "execution_count": null,
   "metadata": {},
   "outputs": [],
   "source": []
  },
  {
   "cell_type": "code",
   "execution_count": 93,
   "metadata": {},
   "outputs": [
    {
     "data": {
      "text/plain": [
       "Float64Index([-39.75, -39.25, -38.75, -38.25, -37.75, -37.25, -36.75, -36.25,\n",
       "              -35.75, -35.25,\n",
       "              ...\n",
       "               25.25,  25.75,  26.25,  26.75,  27.25,  27.75,  28.25,  28.75,\n",
       "               29.25,  29.75],\n",
       "             dtype='float64', name='lat', length=140)"
      ]
     },
     "execution_count": 93,
     "metadata": {},
     "output_type": "execute_result"
    }
   ],
   "source": [
    "sector_seas_ninas.index"
   ]
  },
  {
   "cell_type": "code",
   "execution_count": 112,
   "metadata": {},
   "outputs": [
    {
     "data": {
      "text/plain": [
       "<matplotlib.legend.Legend at 0x7f836e4da450>"
      ]
     },
     "execution_count": 112,
     "metadata": {},
     "output_type": "execute_result"
    },
    {
     "data": {
      "image/png": "[encoded data removed]",
      "text/plain": [
       "<Figure size 864x504 with 1 Axes>"
      ]
     },
     "metadata": {
      "needs_background": "light"
     },
     "output_type": "display_data"
    }
   ],
   "source": [
    "f, ax = plt.subplots(figsize=(12,7))\n",
    "\n",
    "ax.axvline(0, lw=1, color='k', ls='--')\n",
    "\n",
    "sector_seas_ninas.plot(ax=ax, color='b', legend=None, ls=':', lw=0.5)\n",
    "LN, = ax.plot(sector_seas_ninas.index, sector_seas_ninas.mean(axis=1), color='b')\n",
    "\n",
    "sector_seas_ninos.plot(ax=ax, color='r', legend=None, ls=':', lw=0.5)\n",
    "EN, = ax.plot(sector_seas_ninos.index, sector_seas_ninos.mean(axis=1), color='r')\n",
    "\n",
    "sector_seas_neutral.plot(ax=ax, color='g', legend=None, ls=':', lw=0.5)\n",
    "N, = ax.plot(sector_seas_neutral.index, sector_seas_neutral.mean(axis=1), color='g')\n",
    "\n",
    "LY, = ax.plot(last_year.index, last_year, color='k', lw=3)\n",
    "\n",
    "ax.legend([LN, EN, N, LY], ['La Nina', 'El Nino', 'Neutral', str(year)])\n"
   ]
  },
  {
   "cell_type": "code",
   "execution_count": null,
   "metadata": {},
   "outputs": [],
   "source": []
  }
 ],
 "metadata": {
  "kernelspec": {
   "display_name": "Python 3",
   "language": "python",
   "name": "python3"
  },
  "language_info": {
   "codemirror_mode": {
    "name": "ipython",
    "version": 3
   },
   "file_extension": ".py",
   "mimetype": "text/x-python",
   "name": "python",
   "nbconvert_exporter": "python",
   "pygments_lexer": "ipython3",
   "version": "3.7.5"
  }
 },
 "nbformat": 4,
 "nbformat_minor": 4
}
